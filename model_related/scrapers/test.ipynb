{
 "cells": [
  {
   "cell_type": "code",
   "execution_count": 2,
   "metadata": {},
   "outputs": [],
   "source": [
    "import pandas as pd\n",
    "import glob\n",
    "import os\n",
    "import pickle"
   ]
  },
  {
   "cell_type": "code",
   "execution_count": 6,
   "metadata": {},
   "outputs": [],
   "source": [
    "with open('../data/') as f:\n",
    "            matches = pickle.load(f)"
   ]
  },
  {
   "cell_type": "code",
   "execution_count": 8,
   "metadata": {},
   "outputs": [],
   "source": [
    "df1 = pd.read_csv('./pickles/all_matches.pkl')\n",
    "df2 = pd.read_csv('./data/2017-2018/2017-2018_chunk_0_misc.csv')"
   ]
  },
  {
   "cell_type": "code",
   "execution_count": 33,
   "metadata": {},
   "outputs": [
    {
     "data": {
      "text/plain": [
       "24"
      ]
     },
     "execution_count": 33,
     "metadata": {},
     "output_type": "execute_result"
    }
   ],
   "source": [
    "len((df1.columns + df2.columns).tolist())"
   ]
  },
  {
   "cell_type": "code",
   "execution_count": 10,
   "metadata": {},
   "outputs": [
    {
     "data": {
      "text/plain": [
       "Index(['player', 'shirtnumber', 'nationality', 'position', 'age', 'minutes',\n",
       "       'cards_yellow', 'cards_red', 'cards_yellow_red', 'fouls', 'fouled',\n",
       "       'offsides', 'crosses', 'interceptions', 'tackles_won', 'pens_won',\n",
       "       'pens_conceded', 'own_goals', 'ball_recoveries', 'aerials_won',\n",
       "       'aerials_lost', 'aerials_won_pct', 'Matchweek', 'Season'],\n",
       "      dtype='object')"
      ]
     },
     "execution_count": 10,
     "metadata": {},
     "output_type": "execute_result"
    }
   ],
   "source": [
    "df2.columns"
   ]
  },
  {
   "cell_type": "code",
   "execution_count": 28,
   "metadata": {},
   "outputs": [],
   "source": [
    "data_1 = pd.merge(df1, df2, how='inner', left_index=True, right_index=True, suffixes=('','_remove'))"
   ]
  },
  {
   "cell_type": "code",
   "execution_count": 31,
   "metadata": {},
   "outputs": [
    {
     "data": {
      "text/plain": [
       "Index(['player', 'shirtnumber', 'nationality', 'position', 'age', 'minutes',\n",
       "       'tackles', 'tackles_won', 'tackles_def_3rd', 'tackles_mid_3rd',\n",
       "       'tackles_att_3rd', 'challenge_tackles', 'challenges',\n",
       "       'challenge_tackles_pct', 'challenges_lost', 'blocks', 'blocked_shots',\n",
       "       'blocked_passes', 'interceptions', 'tackles_interceptions',\n",
       "       'clearances', 'errors', 'Matchweek', 'Season', 'player_remove',\n",
       "       'shirtnumber_remove', 'nationality_remove', 'position_remove',\n",
       "       'age_remove', 'minutes_remove', 'cards_yellow', 'cards_red',\n",
       "       'cards_yellow_red', 'fouls', 'fouled', 'offsides', 'crosses',\n",
       "       'interceptions_remove', 'tackles_won_remove', 'pens_won',\n",
       "       'pens_conceded', 'own_goals', 'ball_recoveries', 'aerials_won',\n",
       "       'aerials_lost', 'aerials_won_pct', 'Matchweek_remove', 'Season_remove'],\n",
       "      dtype='object')"
      ]
     },
     "execution_count": 31,
     "metadata": {},
     "output_type": "execute_result"
    }
   ],
   "source": [
    "data_1.columns"
   ]
  },
  {
   "cell_type": "code",
   "execution_count": 34,
   "metadata": {},
   "outputs": [],
   "source": [
    "data_1.drop([i for i in data_1.columns if 'remove' in i],\n",
    "               axis=1, inplace=True)"
   ]
  },
  {
   "cell_type": "code",
   "execution_count": 44,
   "metadata": {},
   "outputs": [],
   "source": [
    "def concatenate(season, folder_path):\n",
    "    all_files = glob.glob(os.path.join(folder_path, f\"{season}/*.csv\"))\n",
    "\n",
    "    df = pd.read_csv(all_files[0])\n",
    "\n",
    "    # Loop over the remaining CSV files and merge them with the first one\n",
    "    for file in all_files[1:]:\n",
    "        df_other = pd.read_csv(file)\n",
    "        df = pd.merge(df1, df2, how='inner', left_index=True, right_index=True, suffixes=('','_remove'))\n",
    "        df.head()\n",
    "    df.drop([i for i in df.columns if 'remove' in i],\n",
    "               axis=1, inplace=True)\n",
    "    os.makedirs(\"./season_data\", exist_ok=True)\n",
    "    df.to_csv(f\"./season_data/season_{season}.csv\", index=False)\n"
   ]
  },
  {
   "cell_type": "code",
   "execution_count": 45,
   "metadata": {},
   "outputs": [],
   "source": [
    "seasons = [f\"{year}-{year+1}\" for year in range(2017, 2024)]\n",
    "\n",
    "for season in seasons:\n",
    "    concatenate(season, './data/')"
   ]
  },
  {
   "cell_type": "code",
   "execution_count": null,
   "metadata": {},
   "outputs": [],
   "source": []
  }
 ],
 "metadata": {
  "kernelspec": {
   "display_name": "Python 3",
   "language": "python",
   "name": "python3"
  },
  "language_info": {
   "codemirror_mode": {
    "name": "ipython",
    "version": 3
   },
   "file_extension": ".py",
   "mimetype": "text/x-python",
   "name": "python",
   "nbconvert_exporter": "python",
   "pygments_lexer": "ipython3",
   "version": "3.9.10"
  }
 },
 "nbformat": 4,
 "nbformat_minor": 2
}
