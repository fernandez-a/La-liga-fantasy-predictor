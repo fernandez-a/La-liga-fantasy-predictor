{
 "cells": [
  {
   "cell_type": "code",
   "execution_count": 1,
   "metadata": {},
   "outputs": [],
   "source": [
    "import pandas as pd\n",
    "import glob\n",
    "import os\n",
    "import re\n",
    "import pickle\n",
    "\n",
    "from utils import *"
   ]
  },
  {
   "cell_type": "code",
   "execution_count": null,
   "metadata": {},
   "outputs": [],
   "source": [
    "seasons = [f\"{year}-{year+1}\" for year in range(2017, 2024)]\n",
    "\n",
    "for season in seasons:\n",
    "    if season == '2023-2024':\n",
    "        rounds = 14\n",
    "    else:\n",
    "        rounds = 38\n",
    "    concatenateChunks(season, './all_seasons_data/', rounds)"
   ]
  },
  {
   "cell_type": "code",
   "execution_count": 2,
   "metadata": {},
   "outputs": [
    {
     "name": "stdout",
     "output_type": "stream",
     "text": [
      "Succesfully merged into season 2017-2018\n",
      "Succesfully merged into season 2018-2019\n",
      "Succesfully merged into season 2019-2020\n",
      "Succesfully merged into season 2020-2021\n",
      "Succesfully merged into season 2021-2022\n",
      "Succesfully merged into season 2022-2023\n",
      "Succesfully merged into season 2023-2024\n"
     ]
    }
   ],
   "source": [
    "seasons = [f\"{year}-{year+1}\" for year in range(2017, 2024)]\n",
    "\n",
    "for season in seasons:\n",
    "    if season == '2023-2024':\n",
    "        rounds = 14\n",
    "        mergeGw(season, './all_seasons_data/', rounds)\n",
    "    else:\n",
    "        rounds = 38\n",
    "        mergeGw(season, './all_seasons_data/', rounds)"
   ]
  },
  {
   "cell_type": "code",
   "execution_count": 3,
   "metadata": {},
   "outputs": [
    {
     "name": "stdout",
     "output_type": "stream",
     "text": [
      "Succesfully merged into season 2017-2018\n",
      "Succesfully merged into season 2018-2019\n",
      "Succesfully merged into season 2019-2020\n",
      "Succesfully merged into season 2020-2021\n",
      "Succesfully merged into season 2021-2022\n",
      "Succesfully merged into season 2022-2023\n",
      "Succesfully merged into season 2023-2024\n"
     ]
    }
   ],
   "source": [
    "seasons = [f\"{year}-{year+1}\" for year in range(2017, 2024)]\n",
    "for season in seasons:\n",
    "    concatenateGw(season, './season_data/')"
   ]
  },
  {
   "cell_type": "code",
   "execution_count": null,
   "metadata": {},
   "outputs": [],
   "source": [
    "concatenate_all('./season_data/')"
   ]
  },
  {
   "cell_type": "code",
   "execution_count": null,
   "metadata": {},
   "outputs": [],
   "source": [
    "df_all = pd.read_csv('./season_data/all_seasons.csv')"
   ]
  },
  {
   "cell_type": "code",
   "execution_count": null,
   "metadata": {},
   "outputs": [],
   "source": [
    "len(df_all.columns)"
   ]
  },
  {
   "cell_type": "code",
   "execution_count": null,
   "metadata": {},
   "outputs": [],
   "source": [
    "df_all.head()"
   ]
  },
  {
   "cell_type": "code",
   "execution_count": null,
   "metadata": {},
   "outputs": [],
   "source": [
    "df_all.shape"
   ]
  },
  {
   "cell_type": "code",
   "execution_count": null,
   "metadata": {},
   "outputs": [],
   "source": [
    "df_all = df_all.drop_duplicates()"
   ]
  },
  {
   "cell_type": "code",
   "execution_count": null,
   "metadata": {},
   "outputs": [],
   "source": [
    "df_all.shape"
   ]
  },
  {
   "cell_type": "code",
   "execution_count": null,
   "metadata": {},
   "outputs": [],
   "source": []
  }
 ],
 "metadata": {
  "kernelspec": {
   "display_name": "Python 3 (ipykernel)",
   "language": "python",
   "name": "python3"
  },
  "language_info": {
   "codemirror_mode": {
    "name": "ipython",
    "version": 3
   },
   "file_extension": ".py",
   "mimetype": "text/x-python",
   "name": "python",
   "nbconvert_exporter": "python",
   "pygments_lexer": "ipython3",
   "version": "3.9.0"
  }
 },
 "nbformat": 4,
 "nbformat_minor": 4
}
