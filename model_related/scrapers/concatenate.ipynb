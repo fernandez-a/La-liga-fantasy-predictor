{
 "cells": [
  {
   "cell_type": "code",
   "execution_count": 1,
   "metadata": {},
   "outputs": [],
   "source": [
    "import pandas as pd\n",
    "import glob\n",
    "import os\n",
    "import re\n",
    "import pickle\n",
    "\n",
    "from utils import *"
   ]
  },
  {
   "cell_type": "code",
   "execution_count": null,
   "metadata": {},
   "outputs": [],
   "source": [
    "seasons = [f\"{year}-{year+1}\" for year in range(2017, 2024)]\n",
    "\n",
    "for season in seasons:\n",
    "    if season == '2023-2024':\n",
    "        rounds = 14\n",
    "    else:\n",
    "        rounds = 38\n",
    "    concatenateChunks(season, './all_seasons_data/', rounds)"
   ]
  },
  {
   "cell_type": "code",
   "execution_count": 2,
   "metadata": {},
   "outputs": [
    {
     "name": "stdout",
     "output_type": "stream",
     "text": [
      "Succesfully merged into season 2017-2018\n",
      "Succesfully merged into season 2018-2019\n",
      "Succesfully merged into season 2019-2020\n",
      "Succesfully merged into season 2020-2021\n",
      "Succesfully merged into season 2021-2022\n",
      "Succesfully merged into season 2022-2023\n",
      "Succesfully merged into season 2023-2024\n"
     ]
    }
   ],
   "source": [
    "seasons = [f\"{year}-{year+1}\" for year in range(2017, 2024)]\n",
    "\n",
    "for season in seasons:\n",
    "    if season == '2023-2024':\n",
    "        rounds = 14\n",
    "        mergeGw(season, './all_seasons_data/', rounds)\n",
    "    else:\n",
    "        rounds = 38\n",
    "        mergeGw(season, './all_seasons_data/', rounds)"
   ]
  },
  {
   "cell_type": "code",
   "execution_count": 3,
   "metadata": {},
   "outputs": [
    {
     "name": "stdout",
     "output_type": "stream",
     "text": [
      "Succesfully merged into season 2017-2018\n",
      "Succesfully merged into season 2018-2019\n",
      "Succesfully merged into season 2019-2020\n",
      "Succesfully merged into season 2020-2021\n",
      "Succesfully merged into season 2021-2022\n",
      "Succesfully merged into season 2022-2023\n",
      "Succesfully merged into season 2023-2024\n"
     ]
    }
   ],
   "source": [
    "seasons = [f\"{year}-{year+1}\" for year in range(2017, 2024)]\n",
    "for season in seasons:\n",
    "    concatenateGw(season, './season_data/')"
   ]
  },
  {
   "cell_type": "code",
   "execution_count": 4,
   "metadata": {},
   "outputs": [
    {
     "name": "stdout",
     "output_type": "stream",
     "text": [
      "Succesfully merged all seasons\n"
     ]
    }
   ],
   "source": [
    "concatenate_all('./season_data/')"
   ]
  },
  {
   "cell_type": "code",
   "execution_count": 5,
   "metadata": {},
   "outputs": [],
   "source": [
    "df_all = pd.read_csv('./season_data/all_seasons.csv')"
   ]
  },
  {
   "cell_type": "code",
   "execution_count": 6,
   "metadata": {},
   "outputs": [
    {
     "data": {
      "text/plain": [
       "105"
      ]
     },
     "execution_count": 6,
     "metadata": {},
     "output_type": "execute_result"
    }
   ],
   "source": [
    "len(df_all.columns)"
   ]
  },
  {
   "cell_type": "code",
   "execution_count": 7,
   "metadata": {},
   "outputs": [
    {
     "data": {
      "text/html": [
       "<div>\n",
       "<style scoped>\n",
       "    .dataframe tbody tr th:only-of-type {\n",
       "        vertical-align: middle;\n",
       "    }\n",
       "\n",
       "    .dataframe tbody tr th {\n",
       "        vertical-align: top;\n",
       "    }\n",
       "\n",
       "    .dataframe thead th {\n",
       "        text-align: right;\n",
       "    }\n",
       "</style>\n",
       "<table border=\"1\" class=\"dataframe\">\n",
       "  <thead>\n",
       "    <tr style=\"text-align: right;\">\n",
       "      <th></th>\n",
       "      <th>player</th>\n",
       "      <th>shirtnumber</th>\n",
       "      <th>nationality</th>\n",
       "      <th>position</th>\n",
       "      <th>age</th>\n",
       "      <th>minutes</th>\n",
       "      <th>tackles</th>\n",
       "      <th>tackles_won</th>\n",
       "      <th>tackles_def_3rd</th>\n",
       "      <th>tackles_mid_3rd</th>\n",
       "      <th>...</th>\n",
       "      <th>progressive_passes_received</th>\n",
       "      <th>goals</th>\n",
       "      <th>pens_made</th>\n",
       "      <th>pens_att</th>\n",
       "      <th>shots</th>\n",
       "      <th>shots_on_target</th>\n",
       "      <th>xg</th>\n",
       "      <th>npxg</th>\n",
       "      <th>sca</th>\n",
       "      <th>gca</th>\n",
       "    </tr>\n",
       "  </thead>\n",
       "  <tbody>\n",
       "    <tr>\n",
       "      <th>0</th>\n",
       "      <td>Miguel Ángel Guerrero</td>\n",
       "      <td>9</td>\n",
       "      <td>es ESP</td>\n",
       "      <td>FW</td>\n",
       "      <td>27-037</td>\n",
       "      <td>90</td>\n",
       "      <td>1.0</td>\n",
       "      <td>1</td>\n",
       "      <td>0.0</td>\n",
       "      <td>0.0</td>\n",
       "      <td>...</td>\n",
       "      <td>10.0</td>\n",
       "      <td>0</td>\n",
       "      <td>0</td>\n",
       "      <td>0</td>\n",
       "      <td>4</td>\n",
       "      <td>1</td>\n",
       "      <td>0.3</td>\n",
       "      <td>0.3</td>\n",
       "      <td>2.0</td>\n",
       "      <td>1.0</td>\n",
       "    </tr>\n",
       "    <tr>\n",
       "      <th>1</th>\n",
       "      <td>Alexander</td>\n",
       "      <td>11</td>\n",
       "      <td>ar ARG</td>\n",
       "      <td>LW</td>\n",
       "      <td>28-309</td>\n",
       "      <td>90</td>\n",
       "      <td>1.0</td>\n",
       "      <td>1</td>\n",
       "      <td>0.0</td>\n",
       "      <td>1.0</td>\n",
       "      <td>...</td>\n",
       "      <td>5.0</td>\n",
       "      <td>0</td>\n",
       "      <td>0</td>\n",
       "      <td>0</td>\n",
       "      <td>2</td>\n",
       "      <td>0</td>\n",
       "      <td>0.1</td>\n",
       "      <td>0.1</td>\n",
       "      <td>5.0</td>\n",
       "      <td>0.0</td>\n",
       "    </tr>\n",
       "    <tr>\n",
       "      <th>2</th>\n",
       "      <td>Omar Ramos</td>\n",
       "      <td>23</td>\n",
       "      <td>es ESP</td>\n",
       "      <td>RW</td>\n",
       "      <td>29-204</td>\n",
       "      <td>64</td>\n",
       "      <td>2.0</td>\n",
       "      <td>2</td>\n",
       "      <td>1.0</td>\n",
       "      <td>0.0</td>\n",
       "      <td>...</td>\n",
       "      <td>5.0</td>\n",
       "      <td>0</td>\n",
       "      <td>0</td>\n",
       "      <td>0</td>\n",
       "      <td>1</td>\n",
       "      <td>0</td>\n",
       "      <td>0.0</td>\n",
       "      <td>0.0</td>\n",
       "      <td>5.0</td>\n",
       "      <td>0.0</td>\n",
       "    </tr>\n",
       "    <tr>\n",
       "      <th>3</th>\n",
       "      <td>Erik Morán</td>\n",
       "      <td>4</td>\n",
       "      <td>es ESP</td>\n",
       "      <td>DM</td>\n",
       "      <td>26-085</td>\n",
       "      <td>26</td>\n",
       "      <td>0.0</td>\n",
       "      <td>0</td>\n",
       "      <td>0.0</td>\n",
       "      <td>0.0</td>\n",
       "      <td>...</td>\n",
       "      <td>0.0</td>\n",
       "      <td>0</td>\n",
       "      <td>0</td>\n",
       "      <td>0</td>\n",
       "      <td>0</td>\n",
       "      <td>0</td>\n",
       "      <td>0.0</td>\n",
       "      <td>0.0</td>\n",
       "      <td>0.0</td>\n",
       "      <td>0.0</td>\n",
       "    </tr>\n",
       "    <tr>\n",
       "      <th>4</th>\n",
       "      <td>Javier Eraso</td>\n",
       "      <td>17</td>\n",
       "      <td>es ESP</td>\n",
       "      <td>AM,RW</td>\n",
       "      <td>27-149</td>\n",
       "      <td>69</td>\n",
       "      <td>2.0</td>\n",
       "      <td>1</td>\n",
       "      <td>1.0</td>\n",
       "      <td>1.0</td>\n",
       "      <td>...</td>\n",
       "      <td>6.0</td>\n",
       "      <td>0</td>\n",
       "      <td>0</td>\n",
       "      <td>0</td>\n",
       "      <td>0</td>\n",
       "      <td>0</td>\n",
       "      <td>0.0</td>\n",
       "      <td>0.0</td>\n",
       "      <td>1.0</td>\n",
       "      <td>0.0</td>\n",
       "    </tr>\n",
       "  </tbody>\n",
       "</table>\n",
       "<p>5 rows × 105 columns</p>\n",
       "</div>"
      ],
      "text/plain": [
       "                  player  shirtnumber nationality position     age  minutes  \\\n",
       "0  Miguel Ángel Guerrero            9      es ESP       FW  27-037       90   \n",
       "1              Alexander           11      ar ARG       LW  28-309       90   \n",
       "2             Omar Ramos           23      es ESP       RW  29-204       64   \n",
       "3             Erik Morán            4      es ESP       DM  26-085       26   \n",
       "4           Javier Eraso           17      es ESP    AM,RW  27-149       69   \n",
       "\n",
       "   tackles  tackles_won  tackles_def_3rd  tackles_mid_3rd  ...  \\\n",
       "0      1.0            1              0.0              0.0  ...   \n",
       "1      1.0            1              0.0              1.0  ...   \n",
       "2      2.0            2              1.0              0.0  ...   \n",
       "3      0.0            0              0.0              0.0  ...   \n",
       "4      2.0            1              1.0              1.0  ...   \n",
       "\n",
       "   progressive_passes_received  goals  pens_made  pens_att  shots  \\\n",
       "0                         10.0      0          0         0      4   \n",
       "1                          5.0      0          0         0      2   \n",
       "2                          5.0      0          0         0      1   \n",
       "3                          0.0      0          0         0      0   \n",
       "4                          6.0      0          0         0      0   \n",
       "\n",
       "   shots_on_target   xg  npxg  sca  gca  \n",
       "0                1  0.3   0.3  2.0  1.0  \n",
       "1                0  0.1   0.1  5.0  0.0  \n",
       "2                0  0.0   0.0  5.0  0.0  \n",
       "3                0  0.0   0.0  0.0  0.0  \n",
       "4                0  0.0   0.0  1.0  0.0  \n",
       "\n",
       "[5 rows x 105 columns]"
      ]
     },
     "execution_count": 7,
     "metadata": {},
     "output_type": "execute_result"
    }
   ],
   "source": [
    "df_all.head()"
   ]
  },
  {
   "cell_type": "code",
   "execution_count": 8,
   "metadata": {},
   "outputs": [
    {
     "data": {
      "text/plain": [
       "(71744, 105)"
      ]
     },
     "execution_count": 8,
     "metadata": {},
     "output_type": "execute_result"
    }
   ],
   "source": [
    "df_all.shape"
   ]
  },
  {
   "cell_type": "code",
   "execution_count": null,
   "metadata": {},
   "outputs": [],
   "source": []
  }
 ],
 "metadata": {
  "kernelspec": {
   "display_name": "Python 3 (ipykernel)",
   "language": "python",
   "name": "python3"
  },
  "language_info": {
   "codemirror_mode": {
    "name": "ipython",
    "version": 3
   },
   "file_extension": ".py",
   "mimetype": "text/x-python",
   "name": "python",
   "nbconvert_exporter": "python",
   "pygments_lexer": "ipython3",
   "version": "3.9.0"
  }
 },
 "nbformat": 4,
 "nbformat_minor": 4
}
